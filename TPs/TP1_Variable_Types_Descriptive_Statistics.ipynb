{
 "cells": [
  {
   "cell_type": "markdown",
   "metadata": {},
   "source": [
    "# **TP1 - Variable Types & Descriptive Statistics**\n",
    "\n",
    "-------\n",
    "<center>\n",
    "<b>Exploratory Data Analysis & Unsuperivsed Learning </b><br>\n",
    "PHAUK Sokkey, PhD & HAS Sothea, PhD\n",
    "</center>"
   ]
  },
  {
   "cell_type": "markdown",
   "metadata": {},
   "source": [
    "**Objective**: This initial practical session is designed to enhance your understanding of various data variable types and the corresponding statistical and graphical tools suitable for each type.\n",
    "\n",
    "-------"
   ]
  },
  {
   "cell_type": "markdown",
   "metadata": {},
   "source": [
    "# 1. `Gapminder` dataset\n",
    "\n",
    "[`Gapminder`](https://pypi.org/project/gapminder/) is an excerpt of the data available at [https://gapminder.org](https://www.gapminder.org/). For each of $142$ countries (`country`), the package provides values for life expectancy (`lifeExp`), GDP per capita (`gdpPercap`), and population (`pop`), every five years, from $1952$ to $2007$ (`year`). It is initially used in [Jennifer Bryan's excellent `gapminder` teaching package for R](https://github.com/jennybc/gapminder/) ([`ggplot`](https://ggplot2.tidyverse.org/), [`tidyverse`](https://www.tidyverse.org/), and more). For more information about `gapminder`: \n",
    "- Documentation: [https://www.gapminder.org/data/documentation/](https://www.gapminder.org/data/documentation/)\n",
    "- A short demonstration video is available here: [Hans Rosling's 200 Countries, 200 Years, 4 Minutes - The Joy of Stats - BBC Four](https://youtu.be/jbkSRLYSojo?si=qipg08VIi999hEgo)."
   ]
  },
  {
   "cell_type": "code",
   "execution_count": 2,
   "metadata": {},
   "outputs": [
    {
     "name": "stdout",
     "output_type": "stream",
     "text": [
      "* Number of observations: 1704\n"
     ]
    },
    {
     "data": {
      "text/html": [
       "<div>\n",
       "<style scoped>\n",
       "    .dataframe tbody tr th:only-of-type {\n",
       "        vertical-align: middle;\n",
       "    }\n",
       "\n",
       "    .dataframe tbody tr th {\n",
       "        vertical-align: top;\n",
       "    }\n",
       "\n",
       "    .dataframe thead th {\n",
       "        text-align: right;\n",
       "    }\n",
       "</style>\n",
       "<table border=\"1\" class=\"dataframe\">\n",
       "  <thead>\n",
       "    <tr style=\"text-align: right;\">\n",
       "      <th></th>\n",
       "      <th>country</th>\n",
       "      <th>continent</th>\n",
       "      <th>year</th>\n",
       "      <th>lifeExp</th>\n",
       "      <th>pop</th>\n",
       "      <th>gdpPercap</th>\n",
       "    </tr>\n",
       "  </thead>\n",
       "  <tbody>\n",
       "    <tr>\n",
       "      <th>316</th>\n",
       "      <td>Comoros</td>\n",
       "      <td>Africa</td>\n",
       "      <td>1972</td>\n",
       "      <td>48.944</td>\n",
       "      <td>250027</td>\n",
       "      <td>1937.577675</td>\n",
       "    </tr>\n",
       "    <tr>\n",
       "      <th>1653</th>\n",
       "      <td>Vietnam</td>\n",
       "      <td>Asia</td>\n",
       "      <td>1997</td>\n",
       "      <td>70.672</td>\n",
       "      <td>76048996</td>\n",
       "      <td>1385.896769</td>\n",
       "    </tr>\n",
       "    <tr>\n",
       "      <th>144</th>\n",
       "      <td>Bosnia and Herzegovina</td>\n",
       "      <td>Europe</td>\n",
       "      <td>1952</td>\n",
       "      <td>53.820</td>\n",
       "      <td>2791000</td>\n",
       "      <td>973.533195</td>\n",
       "    </tr>\n",
       "  </tbody>\n",
       "</table>\n",
       "</div>"
      ],
      "text/plain": [
       "                     country continent  year  lifeExp       pop    gdpPercap\n",
       "316                  Comoros    Africa  1972   48.944    250027  1937.577675\n",
       "1653                 Vietnam      Asia  1997   70.672  76048996  1385.896769\n",
       "144   Bosnia and Herzegovina    Europe  1952   53.820   2791000   973.533195"
      ]
     },
     "execution_count": 2,
     "metadata": {},
     "output_type": "execute_result"
    }
   ],
   "source": [
    "#%pip install gapminder           # This is for installing the package\n",
    "from gapminder import gapminder\n",
    "print(f\"* Number of observations: {gapminder.shape[0]}\")\n",
    "gapminder.sample(3)"
   ]
  },
  {
   "cell_type": "markdown",
   "metadata": {},
   "source": [
    "----------\n",
    "\n",
    "# 2. Variable types\n",
    "\n",
    "`EDA` involves summarizing and visualizing data to uncover patterns, detect anomalies, and understand relationships between variables. Statistical summaries, such as mean, median, and standard deviation, are essential tools in this process.\n",
    "\n",
    "- Which variables are considered quantitative and which are qualitative? \n",
    "\n",
    "> Hint: You can check the default column types by using `gapminder.dtypes`."
   ]
  },
  {
   "cell_type": "markdown",
   "metadata": {},
   "source": [
    "> **Your response**: "
   ]
  },
  {
   "cell_type": "markdown",
   "metadata": {},
   "source": [
    "## 2.1 Quantitative variables\n",
    "\n",
    "1. In year 2002, \n",
    "- Compute suitable statistics for each quantitative variable (excluding `year`) to obtain an overall summary.\n",
    "- Recall the definitions of **skewness** and **kurtosis**. Compute these metrics for each quantitative variable and explain the distribution of each variable based on these values.\n",
    "\n",
    "> Hint: you can use tools from `scipy.stats` module."
   ]
  },
  {
   "cell_type": "code",
   "execution_count": 1,
   "metadata": {},
   "outputs": [],
   "source": [
    "# To do"
   ]
  },
  {
   "cell_type": "markdown",
   "metadata": {},
   "source": [
    "2. Graphically represent the distribution of each variable for the year $2002$. After plotting the distributions, provide a brief explanation for each variable."
   ]
  },
  {
   "cell_type": "code",
   "execution_count": 2,
   "metadata": {},
   "outputs": [],
   "source": [
    "import matplotlib.pyplot as plt\n",
    "import seaborn as sns\n",
    "# To do"
   ]
  },
  {
   "cell_type": "markdown",
   "metadata": {},
   "source": [
    "3. According to the data, in 2002:\n",
    "- Which country is the richest? \n",
    "- Which country is the poorest?\n",
    "- Which country is the healthiest?\n",
    "- Which country is the unhealthiest?"
   ]
  },
  {
   "cell_type": "code",
   "execution_count": 3,
   "metadata": {},
   "outputs": [],
   "source": [
    "# To do"
   ]
  },
  {
   "cell_type": "markdown",
   "metadata": {},
   "source": [
    "4. Repeat the previous question for the year 1977. Before computing, can you guess which country had the lowest life expectancy around that year?"
   ]
  },
  {
   "cell_type": "code",
   "execution_count": 4,
   "metadata": {},
   "outputs": [],
   "source": [
    "# To do"
   ]
  },
  {
   "cell_type": "markdown",
   "metadata": {},
   "source": [
    "## 2.2. Qualitative variables\n",
    "\n",
    "Qualitative variables are simpler than quantitative ones, as we primarily focus on the proportion or frequency of each category. In our dataset, the existing qualitative variables are not suitable for analysis because they are repeated each year. Therefore, we will create three new qualitative variables associated with the three quantitative ones by dividing them into three categories each."
   ]
  },
  {
   "cell_type": "markdown",
   "metadata": {},
   "source": [
    "1. Add the following three variables to the `gapminder` dataset using the instruction below.\n",
    "- Create variable `gdpQual` to be the column with three categories: [**\"developing\"**, **\"moderate\"**, **\"developed\"**] with the following conditions:\n",
    "    - Draw $2$ random variables $u_1$ and $u_2$, uniformly distributed on $[-3,3]$,\n",
    "    - Split `gdpPercap` into three parts:\n",
    "        - If `gdpPercap` $\\leq q_{0.35} +u_1$ then set `gdpQual` to be **\"developing\"**.\n",
    "        - If $q_{0.35}+u_1 <$ `gdpPercap` $\\leq q_{0.65}+u_2$ then set `gdpQual` to be **\"developing\"**.\n",
    "        - If `gdpPercap` $> q_{0.65}+u_2$ then set `gdpQual` to be **\"developed\"**,\n",
    "    where $q_{p}$ denotes the $p$-quantile of the considered variable.\n",
    "- Create variable `popQual` with three categories: [**\"small\"**, **\"medium\"**, **\"large\"**] using the same method as before but with variable `pop`.\n",
    "- Create variable `lifeExpQual` with three categories: [**\"unhealthy\"**, **\"moderate\"**, **\"healthy\"**] using variable `lifeExp`.\n"
   ]
  },
  {
   "cell_type": "code",
   "execution_count": 5,
   "metadata": {},
   "outputs": [],
   "source": [
    "# To do"
   ]
  },
  {
   "cell_type": "markdown",
   "metadata": {},
   "source": [
    "2. Compute the appropriate statistical values and graphically represent the distribution of each newly created qualitative variable."
   ]
  },
  {
   "cell_type": "code",
   "execution_count": 6,
   "metadata": {},
   "outputs": [],
   "source": [
    "# To do"
   ]
  },
  {
   "cell_type": "markdown",
   "metadata": {},
   "source": [
    "- Graphical representation"
   ]
  },
  {
   "cell_type": "code",
   "execution_count": 7,
   "metadata": {},
   "outputs": [],
   "source": [
    "# To do"
   ]
  },
  {
   "cell_type": "markdown",
   "metadata": {},
   "source": [
    "---------\n",
    "\n",
    "# 3. Time evolution\n",
    "\n",
    "`Gapminder` captures global changes from $1952$ to $2007$. It is more insightful to examine how these variables evolve over time.\n",
    "\n",
    "## 3.1. Evolution of average `lifeExp` of the $5$ continents\n",
    "\n",
    "1. Create a line plot of `lifeExp` for the five continents from $1952$ to $2007$ using `sns.lineplot`. What observations can you make from the plot?"
   ]
  },
  {
   "cell_type": "code",
   "execution_count": 8,
   "metadata": {},
   "outputs": [],
   "source": [
    "# To do"
   ]
  },
  {
   "cell_type": "markdown",
   "metadata": {},
   "source": [
    "2. Repeat the same process with `pop`, and then with `gdpPercap`. Provide your comments for each case."
   ]
  },
  {
   "cell_type": "code",
   "execution_count": 9,
   "metadata": {},
   "outputs": [],
   "source": [
    "# To do"
   ]
  },
  {
   "cell_type": "markdown",
   "metadata": {},
   "source": [
    "3. Plot the evolution of the three quantitative variables for **Cambodia**. What do you observe?"
   ]
  },
  {
   "cell_type": "code",
   "execution_count": 10,
   "metadata": {},
   "outputs": [],
   "source": [
    "# To do"
   ]
  },
  {
   "cell_type": "markdown",
   "metadata": {},
   "source": [
    "# Further readings\n",
    "- Gapminder documentation: [https://www.gapminder.org/data/documentation/](https://www.gapminder.org/data/documentation/)\n",
    "- A short demonstration video is available here: [Hans Rosling's 200 Countries, 200 Years, 4 Minutes - The Joy of Stats - BBC Four](https://youtu.be/jbkSRLYSojo?si=qipg08VIi999hEgo).\n",
    "- Graphical tools:\n",
    "    - [`matplotlib`](https://matplotlib.org/stable/index.html)\n",
    "    - [`seaborn`](https://seaborn.pydata.org/)\n",
    "    - [`https://plotly.com/python/`](https://plotly.com/python/)"
   ]
  },
  {
   "cell_type": "markdown",
   "metadata": {},
   "source": []
  }
 ],
 "metadata": {
  "kernelspec": {
   "display_name": "Python 3",
   "language": "python",
   "name": "python3"
  },
  "language_info": {
   "codemirror_mode": {
    "name": "ipython",
    "version": 3
   },
   "file_extension": ".py",
   "mimetype": "text/x-python",
   "name": "python",
   "nbconvert_exporter": "python",
   "pygments_lexer": "ipython3",
   "version": "3.12.5"
  }
 },
 "nbformat": 4,
 "nbformat_minor": 2
}
